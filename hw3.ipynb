{
 "cells": [
  {
   "cell_type": "code",
   "execution_count": null,
   "metadata": {},
   "outputs": [],
   "source": [
    "# Author: Zachary (Alan) Ciemniecki\n",
    "# Date: 20200206\n",
    "# CS301-006, Professor Watson\n",
    "# HW03 Solution\n",
    "# pandas dataframe\n",
    "# link to the git repo (ex: https://github.com/cww5/web_scraper)\n",
    "# link-to-the-relevant-git-commit (ex: https://github.com/cww5/web_scraper/tree/60e907c00ecbe21bc6a543621c9683ebf7f9693a)\n",
    "# name-of-the-branch (ex: master)"
   ]
  },
  {
   "cell_type": "markdown",
   "metadata": {},
   "source": [
    "## HW 03\n"
   ]
  },
  {
   "cell_type": "markdown",
   "metadata": {},
   "source": [
    "#### Part one"
   ]
  },
  {
   "cell_type": "code",
   "execution_count": 12,
   "metadata": {
    "scrolled": true
   },
   "outputs": [
    {
     "name": "stdout",
     "output_type": "stream",
     "text": [
      "The shape is: (193, 6)\n",
      "\n",
      "File or path does not exist. Please try again\n"
     ]
    }
   ],
   "source": [
    "import os\n",
    "import numpy as np\n",
    "import pandas as pd\n",
    "def data_reader(path):\n",
    "    if(os.path.exists(path)):\n",
    "        try:\n",
    "            df = pd.read_csv(path)\n",
    "            print(\"The shape is: \", end = '')\n",
    "            print(df.shape)\n",
    "            return df\n",
    "        except Exception as e:\n",
    "            print (e.__doc__)\n",
    "            print (e)\n",
    "            print(\"Error during reading, please try again\")\n",
    "    else:\n",
    "        print(\"File or path does not exist. Please try again\")\n",
    "\n",
    "test = data_reader('drinks.csv')\n",
    "print()\n",
    "test2 = data_reader('fail.csv')"
   ]
  },
  {
   "cell_type": "markdown",
   "metadata": {},
   "source": [
    "### part 2\n"
   ]
  },
  {
   "cell_type": "code",
   "execution_count": 55,
   "metadata": {},
   "outputs": [
    {
     "name": "stdout",
     "output_type": "stream",
     "text": [
      "26\n"
     ]
    }
   ],
   "source": [
    "import io\n",
    "from contextlib import redirect_stdout\n",
    "def get_num_outliers(df,col):\n",
    "    q3 = df[col].quantile(0.75)\n",
    "    q1 =df[col].quantile(0.25)\n",
    "    iqr = 1.5*(q3-q1)\n",
    "    df_filtered = df[(df[col] < (q1-iqr)) | (df[col] > (q3+iqr))]\n",
    "    return (str(len(df_filtered)))\n",
    "\n",
    "df = pd.read_csv('drinks.csv')\n",
    "print(get_num_outliers(df, 'wine_servings'))\n"
   ]
  },
  {
   "cell_type": "markdown",
   "metadata": {},
   "source": [
    "### Please answer Problem 3 below:"
   ]
  },
  {
   "cell_type": "code",
   "execution_count": 63,
   "metadata": {},
   "outputs": [
    {
     "name": "stdout",
     "output_type": "stream",
     "text": [
      "28\n",
      "15\n"
     ]
    }
   ],
   "source": [
    "def get_num_deviants(df, col, multiplier):\n",
    "    deviants = df[(np.abs(df[col]-df[col].mean()) > (multiplier*df[col].std()))]\n",
    "    print(str(len(deviants)))\n",
    "    \n",
    "df = pd.read_csv('drinks.csv')\n",
    "get_num_deviants(df, 'wine_servings', 1)\n",
    "get_num_deviants(df, 'wine_servings', 2)"
   ]
  },
  {
   "cell_type": "code",
   "execution_count": null,
   "metadata": {},
   "outputs": [],
   "source": []
  }
 ],
 "metadata": {
  "kernelspec": {
   "display_name": "Python 3",
   "language": "python",
   "name": "python3"
  },
  "language_info": {
   "codemirror_mode": {
    "name": "ipython",
    "version": 3
   },
   "file_extension": ".py",
   "mimetype": "text/x-python",
   "name": "python",
   "nbconvert_exporter": "python",
   "pygments_lexer": "ipython3",
   "version": "3.7.4"
  }
 },
 "nbformat": 4,
 "nbformat_minor": 2
}
